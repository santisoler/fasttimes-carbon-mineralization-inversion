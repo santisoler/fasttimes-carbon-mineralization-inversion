{
 "cells": [
  {
   "cell_type": "code",
   "execution_count": 1,
   "id": "288dc6fd",
   "metadata": {},
   "outputs": [],
   "source": [
    "import discretize as ds\n",
    "import SimPEG.potential_fields as pf\n",
    "from SimPEG import (\n",
    "    maps, utils, simulation, inverse_problem, inversion, optimization, regularization, data_misfit, directives\n",
    ")\n",
    "from SimPEG.utils import io_utils\n",
    "import numpy as np\n",
    "import pickle\n",
    "import matplotlib.pyplot as plt\n",
    "import matplotlib.colors as cm\n",
    "from matplotlib import rc\n",
    "\n",
    "rc('text', usetex=True)"
   ]
  },
  {
   "cell_type": "code",
   "execution_count": 2,
   "id": "e9039dc0",
   "metadata": {},
   "outputs": [],
   "source": [
    "def estimate_volume(mesh, model, cutoffs, direction=1, core_region=None):\n",
    "    active = np.ones(len(mesh), dtype=bool)\n",
    "    if core_region is not None:\n",
    "        active = np.ones(len(mesh), dtype=bool)\n",
    "        for i in range(len(core_region)):\n",
    "            v_min, v_max = core_region[i]\n",
    "            active &= mesh.cell_centers[:, i] >= v_min\n",
    "            active &= mesh.cell_centers[:, i] <= v_max\n",
    "    cut_mod = model[active]\n",
    "    cut_vol = mesh.cell_volumes[active]\n",
    "    \n",
    "    cutoffs = np.atleast_1d(cutoffs)\n",
    "    dirs = np.atleast_1d(direction)\n",
    "    if len(dirs) != len(cutoffs):\n",
    "        if len(dirs) == 1:\n",
    "            dirs = np.repeat(dirs, len(cutoffs))\n",
    "    \n",
    "    vols = np.zeros(len(cutoffs))\n",
    "    for i in range(len(cutoffs)):\n",
    "        direc = dirs[i]\n",
    "        cutoff = cutoffs[i]\n",
    "        if direc > 0:\n",
    "            vols[i] = np.sum(cut_vol[cut_mod >= cutoff])\n",
    "        else:\n",
    "            vols[i] = np.sum(cut_vol[cut_mod <= cutoff])\n",
    "    return vols"
   ]
  },
  {
   "cell_type": "code",
   "execution_count": 3,
   "id": "5a8fd636",
   "metadata": {},
   "outputs": [],
   "source": [
    "treemesh = ds.TreeMesh.readUBC('../3_blocks_model/Assets/mesh_CaMP.ubc')"
   ]
  },
  {
   "cell_type": "code",
   "execution_count": 4,
   "id": "5f781f95",
   "metadata": {},
   "outputs": [],
   "source": [
    "# True 1 block model\n",
    "identifier_model = treemesh.read_model_UBC( \"1block_synthetic_model.ubc\")"
   ]
  },
  {
   "cell_type": "code",
   "execution_count": null,
   "id": "995b67a1",
   "metadata": {},
   "outputs": [],
   "source": [
    "#inverted model\n",
    "l22_den = treemesh.read_model_UBC(repo_dir + \"3_blocks_model/L2/Final_Chosen_models/minv_Tik_dw_as1.6e-05.den\")\n",
    "l22_den += 2.9\n",
    "\n",
    "l22_mag = treemesh.read_model_UBC('')\n",
    "l22_mag += 2.9"
   ]
  },
  {
   "cell_type": "code",
   "execution_count": null,
   "id": "ff1e294e",
   "metadata": {},
   "outputs": [],
   "source": [
    "unit1_vol = np.sum(treemesh.cell_volumes[identifier_model==-0.2])\n",
    "unit2_vol = np.sum(treemesh.cell_volumes[identifier_model==0.1])\n",
    "background_vol = np.sum(treemesh.cell_volumes) - unit1_vol - unit2_vol\n",
    "unit1_vol, unit2_vol, background_vol"
   ]
  }
 ],
 "metadata": {
  "kernelspec": {
   "display_name": "Python 3 (ipykernel)",
   "language": "python",
   "name": "python3"
  },
  "language_info": {
   "codemirror_mode": {
    "name": "ipython",
    "version": 3
   },
   "file_extension": ".py",
   "mimetype": "text/x-python",
   "name": "python",
   "nbconvert_exporter": "python",
   "pygments_lexer": "ipython3",
   "version": "3.9.7"
  }
 },
 "nbformat": 4,
 "nbformat_minor": 5
}
